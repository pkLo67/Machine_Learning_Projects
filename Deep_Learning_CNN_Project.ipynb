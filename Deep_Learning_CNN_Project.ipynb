{
 "cells": [
  {
   "cell_type": "markdown",
   "metadata": {},
   "source": [
    "## Classification of images using convolutional neural network (CNN)"
   ]
  },
  {
   "cell_type": "markdown",
   "metadata": {},
   "source": [
    "### The objective of this project:\n",
    "\n",
    "The goal of this project is to build and train convolutional neural networks for classification of images in the CIFAR-10 Dataset. CIFAR-10 is composed of 60000 32x32 color images in 10 classes, with 6000 images per class, which is a well-known dataset for image classification. This dataset has 50000 training images and 10000 test images.\n",
    "\n",
    "The 10 classes are:\n",
    "\n",
    "0. airplane\n",
    "1. automobile\n",
    "2. bird\n",
    "3. cat\n",
    "4. deer\n",
    "5. dog\n",
    "6. frog\n",
    "7. horse\n",
    "8. ship\n",
    "9. truck\n",
    "\n",
    "For details about CIFAR-10 see: https://www.cs.toronto.edu/~kriz/cifar.html"
   ]
  },
  {
   "cell_type": "markdown",
   "metadata": {},
   "source": [
    "### An outline of the Deep Learning project plan:\n",
    "\n",
    "1. Load the CIFAR-10 dataset and examine its data structure.\n",
    "2. Engineer the dataset to create the train and test datasets, and scale them for CNN modeling.\n",
    "3. Build the first CNN model and train it using the RMSprop optimizer. Assess the prediction accuracy of the trained CNN model.\n",
    "4. Train the CNN model with the adam optimizer and assess the its prediction accuracy.\n",
    "5. Build the second CNN model with a more complicated neural architecture and test its prediction performance."
   ]
  },
  {
   "cell_type": "code",
   "execution_count": 1,
   "metadata": {},
   "outputs": [
    {
     "name": "stderr",
     "output_type": "stream",
     "text": [
      "Using TensorFlow backend.\n"
     ]
    }
   ],
   "source": [
    "import keras\n",
    "from keras.datasets import cifar10\n",
    "from keras.preprocessing.image import ImageDataGenerator\n",
    "from keras.models import Sequential\n",
    "from keras.layers import Dense, Dropout, Activation, Flatten\n",
    "from keras.layers import Conv2D, MaxPooling2D\n",
    "import matplotlib.pyplot as plt"
   ]
  },
  {
   "cell_type": "markdown",
   "metadata": {},
   "source": [
    "The CIFAR-10 dataset can be imported from the Keras library using the load_data() method. The loaded CIFAR-10 dataset contain two tuples, which are training and test sets. There are x and y values for each dataset."
   ]
  },
  {
   "cell_type": "code",
   "execution_count": 2,
   "metadata": {},
   "outputs": [
    {
     "name": "stdout",
     "output_type": "stream",
     "text": [
      "x_train shape: (50000, 32, 32, 3)\n",
      "y_train shape: (50000, 1)\n",
      "x_test shape: (10000, 32, 32, 3)\n",
      "y_test shape: (10000, 1)\n",
      "50000 train samples\n",
      "10000 test samples\n"
     ]
    }
   ],
   "source": [
    "# The CIFAR-10 dataset was loaded and split into train and test datasets. Their data structures were examined.\n",
    "(x_train, y_train), (x_test, y_test) = cifar10.load_data()\n",
    "print('x_train shape:', x_train.shape)\n",
    "print('y_train shape:', y_train.shape)\n",
    "print('x_test shape:', x_test.shape)\n",
    "print('y_test shape:', y_test.shape)\n",
    "print(x_train.shape[0], 'train samples')\n",
    "print(x_test.shape[0], 'test samples')"
   ]
  },
  {
   "cell_type": "code",
   "execution_count": 3,
   "metadata": {},
   "outputs": [
    {
     "data": {
      "text/plain": [
       "(32, 32, 3)"
      ]
     },
     "execution_count": 3,
     "metadata": {},
     "output_type": "execute_result"
    }
   ],
   "source": [
    "## Examine the shape of each image. Each image is a 32 x 32 x 3 numpy\n",
    "x_train[253].shape"
   ]
  },
  {
   "cell_type": "code",
   "execution_count": 4,
   "metadata": {},
   "outputs": [
    {
     "name": "stdout",
     "output_type": "stream",
     "text": [
      "The classification of the image:  [3]\n"
     ]
    },
    {
     "data": {
      "image/png": "[encoded data removed]",
      "text/plain": [
       "<Figure size 432x288 with 1 Axes>"
      ]
     },
     "metadata": {
      "needs_background": "light"
     },
     "output_type": "display_data"
    }
   ],
   "source": [
    "## Visualization of an image dataset.\n",
    "\n",
    "print('The classification of the image: ', y_train[253])\n",
    "plt.imshow(x_train[253]);"
   ]
  },
  {
   "cell_type": "code",
   "execution_count": 5,
   "metadata": {},
   "outputs": [],
   "source": [
    "# Use keras.utils.to_categorical() to convert an integer between 0-9 to a vector with a 1 in the (Pythonic) 9th position\n",
    "# This data conversion is required for training CNN models\n",
    "\n",
    "num_classes = 10\n",
    "\n",
    "y_train = keras.utils.to_categorical(y_train, num_classes)\n",
    "y_test = keras.utils.to_categorical(y_test, num_classes)"
   ]
  },
  {
   "cell_type": "code",
   "execution_count": 6,
   "metadata": {},
   "outputs": [
    {
     "data": {
      "text/plain": [
       "array([0., 0., 0., 1., 0., 0., 0., 0., 0., 0.], dtype=float32)"
      ]
     },
     "execution_count": 6,
     "metadata": {},
     "output_type": "execute_result"
    }
   ],
   "source": [
    "# Examine the converted dataset\n",
    "y_train[253]"
   ]
  },
  {
   "cell_type": "code",
   "execution_count": 7,
   "metadata": {},
   "outputs": [],
   "source": [
    "# Convert the data type into float and scale the data values\n",
    "\n",
    "x_train = x_train.astype('float32')\n",
    "x_test = x_test.astype('float32')\n",
    "x_train /= 255\n",
    "x_test /= 255"
   ]
  },
  {
   "cell_type": "markdown",
   "metadata": {},
   "source": [
    "### Build a CNN deep learning model:\n",
    "\n",
    "#### Keras Layers for CNNs:\n",
    "\n",
    "Neural Networks are primarily composed of the Dense, Activation and Dropout Layers. For building a CNN model, there are the CNN-specific layers provided by Keras. These CNN-specific layers are listed below. The Keras Sequential API is used to build neural layers of the CNN model.\n",
    "\n",
    "#### Conv2D:\n",
    "\n",
    "The convolutional (Conv2D) layer is the first one to add into CNN. It contains filters to transform the image data using the kernel filter matrix.\n",
    "\n",
    "To execute the Conv2D function to build a CNN model, the following Keras function is used.\n",
    "\n",
    "**keras.layers.convolutional.Conv2D(filters, kernel_size, strides=(1, 1), padding='valid', data_format=None, dilation_rate=(1, 1), activation=None, use_bias=True, kernel_initializer='glorot_uniform', bias_initializer='zeros', kernel_regularizer=None, bias_regularizer=None, activity_regularizer=None, kernel_constraint=None, bias_constraint=None, \\**kwargs)**\n",
    "\n",
    "\n",
    "**A few parameters explained:**\n",
    "\n",
    "* filters: the number of filter used per location. In other words, the depth of the output.\n",
    "* kernel_size: an (x,y) tuple giving the height and width of the kernel to be used\n",
    "* strides: and (x,y) tuple giving the stride in each dimension. Default is (1,1)\n",
    "* input_shape: required only for the first layer\n",
    "\n",
    "Note: the size of the output will be determined by the kernel_size, strides\n",
    "\n",
    "\n",
    "#### MaxPooling2D:\n",
    "\n",
    "MaxPooling2D is the second important neural layer in CNN. It functions as a downsampling filter to extract more important feature data values for reducing the computational cost and overfitting. By combining both Conv2D and MaxPooling2D, CNN can integrate local features and identify the global features of the image.\n",
    "\n",
    "**keras.layers.pooling.MaxPooling2D(pool_size=(2, 2), strides=None, padding='valid', data_format=None)**\n",
    "\n",
    "* pool_size: the (x,y) size of the grid to be pooled.\n",
    "* strides: Assumed to be the pool_size unless otherwise specified\n",
    "\n",
    "\n",
    "#### Dropout:\n",
    "\n",
    "Dropout is a method for the regularization of CNN. Setting Dropout in CNN can randomly ignore a proportion of neural nodes (adjusting their weights to zero) for each training step. Setting Dropout drives CNN to learn features in a distributed manner. The inclusion of this method in CNN improves generalization and minimizes the overfitting.\n",
    "\n",
    "\n",
    "#### Flatten:\n",
    "\n",
    "This layer is to turn the input into a one-dimensional vector (per instance). This layer is required when transitioning between convolutional layers and fully connected layers."
   ]
  },
  {
   "cell_type": "code",
   "execution_count": 8,
   "metadata": {},
   "outputs": [
    {
     "name": "stdout",
     "output_type": "stream",
     "text": [
      "Model: \"sequential_1\"\n",
      "_________________________________________________________________\n",
      "Layer (type)                 Output Shape              Param #   \n",
      "=================================================================\n",
      "conv2d_1 (Conv2D)            (None, 16, 16, 32)        2432      \n",
      "_________________________________________________________________\n",
      "activation_1 (Activation)    (None, 16, 16, 32)        0         \n",
      "_________________________________________________________________\n",
      "conv2d_2 (Conv2D)            (None, 6, 6, 32)          25632     \n",
      "_________________________________________________________________\n",
      "activation_2 (Activation)    (None, 6, 6, 32)          0         \n",
      "_________________________________________________________________\n",
      "max_pooling2d_1 (MaxPooling2 (None, 3, 3, 32)          0         \n",
      "_________________________________________________________________\n",
      "dropout_1 (Dropout)          (None, 3, 3, 32)          0         \n",
      "_________________________________________________________________\n",
      "flatten_1 (Flatten)          (None, 288)               0         \n",
      "_________________________________________________________________\n",
      "dense_1 (Dense)              (None, 512)               147968    \n",
      "_________________________________________________________________\n",
      "activation_3 (Activation)    (None, 512)               0         \n",
      "_________________________________________________________________\n",
      "dropout_2 (Dropout)          (None, 512)               0         \n",
      "_________________________________________________________________\n",
      "dense_2 (Dense)              (None, 10)                5130      \n",
      "_________________________________________________________________\n",
      "activation_4 (Activation)    (None, 10)                0         \n",
      "=================================================================\n",
      "Total params: 181,162\n",
      "Trainable params: 181,162\n",
      "Non-trainable params: 0\n",
      "_________________________________________________________________\n"
     ]
    }
   ],
   "source": [
    "# Build the first CNN model using the Keras Sequential API\n",
    "\n",
    "model_1 = Sequential()\n",
    "\n",
    "\n",
    "## 5x5 convolution with 2x2 stride and 32 filters\n",
    "model_1.add(Conv2D(32, (5, 5), strides = (2,2), padding='same',\n",
    "                 input_shape=x_train.shape[1:]))\n",
    "model_1.add(Activation('relu'))\n",
    "\n",
    "## Another 5x5 convolution with 2x2 stride and 32 filters\n",
    "model_1.add(Conv2D(32, (5, 5), strides = (2,2)))\n",
    "model_1.add(Activation('relu'))\n",
    "\n",
    "## 2x2 max pooling reduces to 3 x 3 x 32\n",
    "model_1.add(MaxPooling2D(pool_size=(2, 2)))\n",
    "model_1.add(Dropout(0.25))\n",
    "\n",
    "## Flatten turns 3x3x32 into 288x1\n",
    "model_1.add(Flatten())\n",
    "model_1.add(Dense(512))\n",
    "model_1.add(Activation('relu'))\n",
    "model_1.add(Dropout(0.5))\n",
    "model_1.add(Dense(num_classes))\n",
    "model_1.add(Activation('softmax'))\n",
    "\n",
    "model_1.summary()"
   ]
  },
  {
   "cell_type": "code",
   "execution_count": 9,
   "metadata": {},
   "outputs": [
    {
     "name": "stdout",
     "output_type": "stream",
     "text": [
      "Train on 50000 samples, validate on 10000 samples\n",
      "Epoch 1/15\n",
      "50000/50000 [==============================] - 22s 430us/step - loss: 1.7329 - accuracy: 0.3673 - val_loss: 1.5380 - val_accuracy: 0.4570\n",
      "Epoch 2/15\n",
      "50000/50000 [==============================] - 21s 424us/step - loss: 1.4512 - accuracy: 0.4763 - val_loss: 1.3203 - val_accuracy: 0.5358\n",
      "Epoch 3/15\n",
      "50000/50000 [==============================] - 21s 411us/step - loss: 1.3444 - accuracy: 0.5218 - val_loss: 1.2338 - val_accuracy: 0.5560\n",
      "Epoch 4/15\n",
      "50000/50000 [==============================] - 21s 419us/step - loss: 1.2726 - accuracy: 0.5481 - val_loss: 1.1623 - val_accuracy: 0.5884\n",
      "Epoch 5/15\n",
      "50000/50000 [==============================] - 20s 392us/step - loss: 1.2212 - accuracy: 0.5662 - val_loss: 1.1993 - val_accuracy: 0.5733\n",
      "Epoch 6/15\n",
      "50000/50000 [==============================] - 24s 485us/step - loss: 1.1882 - accuracy: 0.5808 - val_loss: 1.0991 - val_accuracy: 0.6059\n",
      "Epoch 7/15\n",
      "50000/50000 [==============================] - 20s 395us/step - loss: 1.1573 - accuracy: 0.5926 - val_loss: 1.1267 - val_accuracy: 0.6063\n",
      "Epoch 8/15\n",
      "50000/50000 [==============================] - 21s 417us/step - loss: 1.1327 - accuracy: 0.6018 - val_loss: 1.0718 - val_accuracy: 0.6251\n",
      "Epoch 9/15\n",
      "50000/50000 [==============================] - 20s 396us/step - loss: 1.1177 - accuracy: 0.6076 - val_loss: 1.1204 - val_accuracy: 0.6144\n",
      "Epoch 10/15\n",
      "50000/50000 [==============================] - 20s 406us/step - loss: 1.1043 - accuracy: 0.6146 - val_loss: 1.1122 - val_accuracy: 0.6173\n",
      "Epoch 11/15\n",
      "50000/50000 [==============================] - 22s 438us/step - loss: 1.0922 - accuracy: 0.6197 - val_loss: 1.0109 - val_accuracy: 0.6416\n",
      "Epoch 12/15\n",
      "50000/50000 [==============================] - 29s 581us/step - loss: 1.0806 - accuracy: 0.6230 - val_loss: 1.0731 - val_accuracy: 0.6324\n",
      "Epoch 13/15\n",
      "50000/50000 [==============================] - 20s 401us/step - loss: 1.0782 - accuracy: 0.6261 - val_loss: 1.0338 - val_accuracy: 0.6415\n",
      "Epoch 14/15\n",
      "50000/50000 [==============================] - 20s 404us/step - loss: 1.0732 - accuracy: 0.6311 - val_loss: 1.1021 - val_accuracy: 0.6292\n",
      "Epoch 15/15\n",
      "50000/50000 [==============================] - 22s 433us/step - loss: 1.0744 - accuracy: 0.6312 - val_loss: 1.0609 - val_accuracy: 0.6412\n"
     ]
    },
    {
     "data": {
      "text/plain": [
       "<keras.callbacks.callbacks.History at 0x19427fc8>"
      ]
     },
     "execution_count": 9,
     "metadata": {},
     "output_type": "execute_result"
    }
   ],
   "source": [
    "batch_size = 32\n",
    "\n",
    "# initiate RMSprop optimizer\n",
    "opt = keras.optimizers.RMSprop(lr=0.0005, decay=1e-6)\n",
    "\n",
    "# Train the model using RMSprop\n",
    "model_1.compile(loss='categorical_crossentropy',\n",
    "              optimizer=opt,\n",
    "              metrics=['accuracy'])\n",
    "\n",
    "model_1.fit(x_train, y_train,\n",
    "              batch_size=batch_size,\n",
    "              epochs=15,\n",
    "              validation_data=(x_test, y_test),\n",
    "              shuffle=True)"
   ]
  },
  {
   "cell_type": "code",
   "execution_count": 10,
   "metadata": {},
   "outputs": [
    {
     "data": {
      "text/plain": [
       "array([[1.32166566e-02, 9.79335629e-04, 1.42665163e-01, ...,\n",
       "        2.66466420e-02, 1.62161347e-02, 1.89722108e-03],\n",
       "       [9.58724245e-02, 4.11439687e-01, 3.97793974e-06, ...,\n",
       "        1.28629525e-08, 4.89496440e-01, 3.18735279e-03],\n",
       "       [1.52348578e-01, 2.55635902e-02, 1.32777197e-02, ...,\n",
       "        4.14361758e-03, 7.69058287e-01, 1.63525622e-02],\n",
       "       ...,\n",
       "       [1.08572957e-03, 2.46698473e-05, 8.75498056e-02, ...,\n",
       "        3.10110636e-02, 4.75588429e-04, 1.52245397e-04],\n",
       "       [2.16618031e-02, 6.47548353e-03, 1.74624205e-01, ...,\n",
       "        8.98089707e-02, 3.00113112e-04, 2.22325631e-04],\n",
       "       [1.75226171e-06, 5.82319304e-09, 2.28551755e-04, ...,\n",
       "        9.69778001e-01, 1.74387371e-09, 1.01512931e-07]], dtype=float32)"
      ]
     },
     "execution_count": 10,
     "metadata": {},
     "output_type": "execute_result"
    }
   ],
   "source": [
    "# The predictions of x_test from the CNN model are probabilities for classes\n",
    "model_1.predict(x_test)"
   ]
  },
  {
   "cell_type": "code",
   "execution_count": 11,
   "metadata": {},
   "outputs": [
    {
     "data": {
      "text/plain": [
       "array([3, 8, 8, ..., 5, 4, 7], dtype=int64)"
      ]
     },
     "execution_count": 11,
     "metadata": {},
     "output_type": "execute_result"
    }
   ],
   "source": [
    "# Use predict_classes to identify which class has the highest probability for each prediction\n",
    "model_1.predict_classes(x_test)"
   ]
  },
  {
   "cell_type": "code",
   "execution_count": 12,
   "metadata": {},
   "outputs": [
    {
     "name": "stdout",
     "output_type": "stream",
     "text": [
      "(10000, 10)\n"
     ]
    },
    {
     "data": {
      "text/plain": [
       "array([[0., 0., 0., ..., 0., 0., 0.],\n",
       "       [0., 0., 0., ..., 0., 1., 0.],\n",
       "       [0., 0., 0., ..., 0., 1., 0.],\n",
       "       ...,\n",
       "       [0., 0., 0., ..., 0., 0., 0.],\n",
       "       [0., 1., 0., ..., 0., 0., 0.],\n",
       "       [0., 0., 0., ..., 1., 0., 0.]], dtype=float32)"
      ]
     },
     "execution_count": 12,
     "metadata": {},
     "output_type": "execute_result"
    }
   ],
   "source": [
    "print(y_test.shape)\n",
    "y_test"
   ]
  },
  {
   "cell_type": "code",
   "execution_count": 13,
   "metadata": {},
   "outputs": [
    {
     "data": {
      "text/plain": [
       "array([3, 8, 8, ..., 5, 1, 7], dtype=int64)"
      ]
     },
     "execution_count": 13,
     "metadata": {},
     "output_type": "execute_result"
    }
   ],
   "source": [
    "import numpy as np\n",
    "np.argmax(y_test, axis=1)"
   ]
  },
  {
   "cell_type": "code",
   "execution_count": 14,
   "metadata": {},
   "outputs": [
    {
     "data": {
      "text/plain": [
       "0.6412"
      ]
     },
     "execution_count": 14,
     "metadata": {},
     "output_type": "execute_result"
    }
   ],
   "source": [
    "# The prediction accuracy of the first CNN model using the RMSprop optimizer\n",
    "from sklearn.metrics import accuracy_score\n",
    "accuracy_score(np.argmax(y_test, axis=1), model_1.predict_classes(x_test))"
   ]
  },
  {
   "cell_type": "markdown",
   "metadata": {},
   "source": [
    "### Train the CNN model using adam as the optimizer"
   ]
  },
  {
   "cell_type": "code",
   "execution_count": 15,
   "metadata": {},
   "outputs": [
    {
     "name": "stdout",
     "output_type": "stream",
     "text": [
      "Train on 50000 samples, validate on 10000 samples\n",
      "Epoch 1/15\n",
      "50000/50000 [==============================] - 22s 443us/step - loss: 1.6895 - accuracy: 0.3792 - val_loss: 1.4237 - val_accuracy: 0.4862\n",
      "Epoch 2/15\n",
      "50000/50000 [==============================] - 20s 397us/step - loss: 1.4299 - accuracy: 0.4789 - val_loss: 1.2836 - val_accuracy: 0.5360\n",
      "Epoch 3/15\n",
      "50000/50000 [==============================] - 20s 400us/step - loss: 1.3243 - accuracy: 0.5255 - val_loss: 1.2174 - val_accuracy: 0.5753\n",
      "Epoch 4/15\n",
      "50000/50000 [==============================] - 22s 445us/step - loss: 1.2577 - accuracy: 0.5513 - val_loss: 1.1790 - val_accuracy: 0.5858\n",
      "Epoch 5/15\n",
      "50000/50000 [==============================] - 20s 408us/step - loss: 1.2046 - accuracy: 0.5713 - val_loss: 1.1186 - val_accuracy: 0.6134\n",
      "Epoch 6/15\n",
      "50000/50000 [==============================] - 21s 428us/step - loss: 1.1609 - accuracy: 0.5863 - val_loss: 1.0684 - val_accuracy: 0.6245\n",
      "Epoch 7/15\n",
      "50000/50000 [==============================] - 23s 453us/step - loss: 1.1271 - accuracy: 0.6010 - val_loss: 1.0465 - val_accuracy: 0.6369\n",
      "Epoch 8/15\n",
      "50000/50000 [==============================] - 23s 467us/step - loss: 1.0980 - accuracy: 0.6117 - val_loss: 1.0485 - val_accuracy: 0.6334\n",
      "Epoch 9/15\n",
      "50000/50000 [==============================] - 21s 422us/step - loss: 1.0681 - accuracy: 0.6205 - val_loss: 1.0035 - val_accuracy: 0.6503\n",
      "Epoch 10/15\n",
      "50000/50000 [==============================] - 21s 425us/step - loss: 1.0482 - accuracy: 0.6297 - val_loss: 1.0164 - val_accuracy: 0.6424\n",
      "Epoch 11/15\n",
      "50000/50000 [==============================] - 22s 440us/step - loss: 1.0217 - accuracy: 0.6390 - val_loss: 0.9689 - val_accuracy: 0.6653\n",
      "Epoch 12/15\n",
      "50000/50000 [==============================] - 21s 412us/step - loss: 1.0034 - accuracy: 0.6447 - val_loss: 0.9577 - val_accuracy: 0.6649\n",
      "Epoch 13/15\n",
      "50000/50000 [==============================] - 22s 441us/step - loss: 0.9816 - accuracy: 0.6548 - val_loss: 0.9683 - val_accuracy: 0.6654\n",
      "Epoch 14/15\n",
      "50000/50000 [==============================] - 23s 453us/step - loss: 0.9728 - accuracy: 0.6552 - val_loss: 0.9413 - val_accuracy: 0.6740\n",
      "Epoch 15/15\n",
      "50000/50000 [==============================] - 22s 450us/step - loss: 0.9548 - accuracy: 0.6645 - val_loss: 0.9322 - val_accuracy: 0.6736\n"
     ]
    },
    {
     "data": {
      "text/plain": [
       "<keras.callbacks.callbacks.History at 0x2126d388>"
      ]
     },
     "execution_count": 15,
     "metadata": {},
     "output_type": "execute_result"
    }
   ],
   "source": [
    "# Train the first CNN model using the adam optimizer\n",
    "\n",
    "model_1 = Sequential()\n",
    "\n",
    "\n",
    "## 5x5 convolution with 2x2 stride and 32 filters\n",
    "model_1.add(Conv2D(32, (5, 5), strides = (2,2), padding='same',\n",
    "                 input_shape=x_train.shape[1:]))\n",
    "model_1.add(Activation('relu'))\n",
    "\n",
    "## Another 5x5 convolution with 2x2 stride and 32 filters\n",
    "model_1.add(Conv2D(32, (5, 5), strides = (2,2)))\n",
    "model_1.add(Activation('relu'))\n",
    "\n",
    "## 2x2 max pooling reduces to 3 x 3 x 32\n",
    "model_1.add(MaxPooling2D(pool_size=(2, 2)))\n",
    "model_1.add(Dropout(0.25))\n",
    "\n",
    "## Flatten turns 3x3x32 into 288x1\n",
    "model_1.add(Flatten())\n",
    "model_1.add(Dense(512))\n",
    "model_1.add(Activation('relu'))\n",
    "model_1.add(Dropout(0.5))\n",
    "model_1.add(Dense(num_classes))\n",
    "model_1.add(Activation('softmax'))\n",
    "\n",
    "batch_size = 32\n",
    "\n",
    "# initiate adam optimizer\n",
    "opt = keras.optimizers.adam(lr=0.0005)\n",
    "\n",
    "# Train the model using the adam optimizer\n",
    "model_1.compile(loss='categorical_crossentropy',\n",
    "              optimizer=opt,\n",
    "              metrics=['accuracy'])\n",
    "\n",
    "model_1.fit(x_train, y_train,\n",
    "              batch_size=batch_size,\n",
    "              epochs=15,\n",
    "              validation_data=(x_test, y_test),\n",
    "              shuffle=True)"
   ]
  },
  {
   "cell_type": "code",
   "execution_count": 16,
   "metadata": {},
   "outputs": [
    {
     "data": {
      "text/plain": [
       "0.6736"
      ]
     },
     "execution_count": 16,
     "metadata": {},
     "output_type": "execute_result"
    }
   ],
   "source": [
    "# The prediction accuracy of the first CNN model using the adam optimizer\n",
    "accuracy_score(np.argmax(y_test, axis=1), model_1.predict_classes(x_test))"
   ]
  },
  {
   "cell_type": "markdown",
   "metadata": {},
   "source": [
    "Based on accuracy score analysis, adam is better than RMSprop as the optimizer for training the CNN model for classification prediction."
   ]
  },
  {
   "cell_type": "markdown",
   "metadata": {},
   "source": [
    "   "
   ]
  },
  {
   "cell_type": "markdown",
   "metadata": {},
   "source": [
    "### Build the second CNN model with a more complicated neural architecture:\n",
    "\n",
    "Build a more complicated model with the following pattern:\n",
    "Conv -> Conv -> MaxPool -> Conv -> Conv -> MaxPool -> (Flatten) -> Dense -> Final Classification\n",
    "\n",
    "* Set kernel size as 3 X 3.\n",
    "* Use strides of 1 for all convolutional layers."
   ]
  },
  {
   "cell_type": "code",
   "execution_count": 17,
   "metadata": {},
   "outputs": [
    {
     "name": "stdout",
     "output_type": "stream",
     "text": [
      "Model: \"sequential_3\"\n",
      "_________________________________________________________________\n",
      "Layer (type)                 Output Shape              Param #   \n",
      "=================================================================\n",
      "conv2d_5 (Conv2D)            (None, 32, 32, 32)        896       \n",
      "_________________________________________________________________\n",
      "activation_9 (Activation)    (None, 32, 32, 32)        0         \n",
      "_________________________________________________________________\n",
      "conv2d_6 (Conv2D)            (None, 30, 30, 32)        9248      \n",
      "_________________________________________________________________\n",
      "activation_10 (Activation)   (None, 30, 30, 32)        0         \n",
      "_________________________________________________________________\n",
      "max_pooling2d_3 (MaxPooling2 (None, 15, 15, 32)        0         \n",
      "_________________________________________________________________\n",
      "dropout_5 (Dropout)          (None, 15, 15, 32)        0         \n",
      "_________________________________________________________________\n",
      "conv2d_7 (Conv2D)            (None, 15, 15, 64)        18496     \n",
      "_________________________________________________________________\n",
      "activation_11 (Activation)   (None, 15, 15, 64)        0         \n",
      "_________________________________________________________________\n",
      "conv2d_8 (Conv2D)            (None, 13, 13, 64)        36928     \n",
      "_________________________________________________________________\n",
      "activation_12 (Activation)   (None, 13, 13, 64)        0         \n",
      "_________________________________________________________________\n",
      "max_pooling2d_4 (MaxPooling2 (None, 6, 6, 64)          0         \n",
      "_________________________________________________________________\n",
      "dropout_6 (Dropout)          (None, 6, 6, 64)          0         \n",
      "_________________________________________________________________\n",
      "flatten_3 (Flatten)          (None, 2304)              0         \n",
      "_________________________________________________________________\n",
      "dense_5 (Dense)              (None, 512)               1180160   \n",
      "_________________________________________________________________\n",
      "activation_13 (Activation)   (None, 512)               0         \n",
      "_________________________________________________________________\n",
      "dropout_7 (Dropout)          (None, 512)               0         \n",
      "_________________________________________________________________\n",
      "dense_6 (Dense)              (None, 10)                5130      \n",
      "_________________________________________________________________\n",
      "activation_14 (Activation)   (None, 10)                0         \n",
      "=================================================================\n",
      "Total params: 1,250,858\n",
      "Trainable params: 1,250,858\n",
      "Non-trainable params: 0\n",
      "_________________________________________________________________\n"
     ]
    }
   ],
   "source": [
    "# Build the second CNN model\n",
    "\n",
    "model_2 = Sequential()\n",
    "\n",
    "# Add the first Conv2D layer with 32 filters\n",
    "model_2.add(Conv2D(32, (3, 3), padding='same',\n",
    "                 input_shape=x_train.shape[1:]))\n",
    "model_2.add(Activation('relu'))\n",
    "\n",
    "# Add the second Conv2D layer with 32 filters\n",
    "model_2.add(Conv2D(32, (3, 3)))\n",
    "model_2.add(Activation('relu'))\n",
    "\n",
    "# Add the first MaxPooling2D layer\n",
    "model_2.add(MaxPooling2D(pool_size=(2, 2)))\n",
    "model_2.add(Dropout(0.25))\n",
    "\n",
    "# Add the third Conv2D layer with 64 filters\n",
    "model_2.add(Conv2D(64, (3, 3), padding='same'))\n",
    "model_2.add(Activation('relu'))\n",
    "\n",
    "# Add the fourth Conv2D layer with 64 filters\n",
    "model_2.add(Conv2D(64, (3, 3)))\n",
    "model_2.add(Activation('relu'))\n",
    "\n",
    "# Add the second MaxPooling2D layer\n",
    "model_2.add(MaxPooling2D(pool_size=(2, 2)))\n",
    "model_2.add(Dropout(0.25))\n",
    "\n",
    "# Add Flatten\n",
    "model_2.add(Flatten())\n",
    "\n",
    "# Add the Dense layer\n",
    "model_2.add(Dense(512))\n",
    "model_2.add(Activation('relu'))\n",
    "model_2.add(Dropout(0.5))\n",
    "\n",
    "# Add the final output layer\n",
    "model_2.add(Dense(num_classes))\n",
    "model_2.add(Activation('softmax'))\n",
    "\n",
    "# Check number of parameters\n",
    "model_2.summary()"
   ]
  },
  {
   "cell_type": "code",
   "execution_count": 18,
   "metadata": {},
   "outputs": [
    {
     "name": "stdout",
     "output_type": "stream",
     "text": [
      "Train on 50000 samples, validate on 10000 samples\n",
      "Epoch 1/5\n",
      "50000/50000 [==============================] - 177s 4ms/step - loss: 1.5761 - accuracy: 0.4230 - val_loss: 1.2350 - val_accuracy: 0.5499\n",
      "Epoch 2/5\n",
      "50000/50000 [==============================] - 180s 4ms/step - loss: 1.1589 - accuracy: 0.5885 - val_loss: 0.9742 - val_accuracy: 0.6575\n",
      "Epoch 3/5\n",
      "50000/50000 [==============================] - 175s 3ms/step - loss: 0.9700 - accuracy: 0.6595 - val_loss: 0.8450 - val_accuracy: 0.7005\n",
      "Epoch 4/5\n",
      "50000/50000 [==============================] - 171s 3ms/step - loss: 0.8579 - accuracy: 0.7001 - val_loss: 0.8221 - val_accuracy: 0.7107\n",
      "Epoch 5/5\n",
      "50000/50000 [==============================] - 168s 3ms/step - loss: 0.7886 - accuracy: 0.7229 - val_loss: 0.7507 - val_accuracy: 0.7368\n"
     ]
    },
    {
     "data": {
      "text/plain": [
       "<keras.callbacks.callbacks.History at 0x237c1808>"
      ]
     },
     "execution_count": 18,
     "metadata": {},
     "output_type": "execute_result"
    }
   ],
   "source": [
    "# initiate adam optimizer\n",
    "opt_2 = keras.optimizers.adam(lr=0.0005)\n",
    "\n",
    "# Train the second CNN model using adam\n",
    "model_2.compile(loss='categorical_crossentropy',\n",
    "              optimizer=opt_2,\n",
    "              metrics=['accuracy'])\n",
    "\n",
    "model_2.fit(x_train, y_train,\n",
    "              batch_size=batch_size,\n",
    "              epochs=5,\n",
    "              validation_data=(x_test, y_test),\n",
    "              shuffle=True)"
   ]
  },
  {
   "cell_type": "code",
   "execution_count": 19,
   "metadata": {},
   "outputs": [
    {
     "data": {
      "text/plain": [
       "0.7368"
      ]
     },
     "execution_count": 19,
     "metadata": {},
     "output_type": "execute_result"
    }
   ],
   "source": [
    "# The prediction accuracy of the second CNN model using the adam optimizer\n",
    "accuracy_score(np.argmax(y_test, axis=1), model_2.predict_classes(x_test))"
   ]
  },
  {
   "cell_type": "markdown",
   "metadata": {},
   "source": [
    "### Conclusion:\n",
    "\n",
    "This CNN project for image classification shows that the CNN model with a more complicated neural architecture has a better prediction performance when it is trained by the adam optimizer."
   ]
  },
  {
   "cell_type": "code",
   "execution_count": null,
   "metadata": {},
   "outputs": [],
   "source": []
  }
 ],
 "metadata": {
  "kernelspec": {
   "display_name": "Python 3",
   "language": "python",
   "name": "python3"
  },
  "language_info": {
   "codemirror_mode": {
    "name": "ipython",
    "version": 3
   },
   "file_extension": ".py",
   "mimetype": "text/x-python",
   "name": "python",
   "nbconvert_exporter": "python",
   "pygments_lexer": "ipython3",
   "version": "3.7.4"
  }
 },
 "nbformat": 4,
 "nbformat_minor": 2
}
